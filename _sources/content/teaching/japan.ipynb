{
 "cells": [
  {
   "cell_type": "raw",
   "metadata": {},
   "source": [
    "---\n",
    "jupytext:\n",
    "  text_representation:\n",
    "    extension: .md\n",
    "    format_name: myst\n",
    "    format_version: '0.10'\n",
    "    jupytext_version: 1.5.2\n",
    "kernelspec:\n",
    "  display_name: Python 3\n",
    "  language: python\n",
    "  name: python3\n",
    "---"
   ]
  },
  {
   "cell_type": "markdown",
   "metadata": {},
   "source": [
    "# Japan-Norway Partnership\n",
    "\n",
    "+++\n",
    "\n",
    "```{margin}\n",
    "![](../images/kobeoslo_logo.jpg)\n",
    "```\n",
    "\n",
    "+++\n",
    "\n",
    "The Japanese-Norwegian Partnership in Space Simulations between the University of Oslo and\n",
    "Kobe University provides a unique study opportunity for students interested in space science\n",
    "and numerical modeling. The Kobe-Oslo project is centered on numerical simulations of space\n",
    "related problems, such as interaction between sounding rockets and plasma, cometary environment,\n",
    "asteroids and lunar surfaces, or plasma turbulence. Participating students learn how to use\n",
    "and create large scale numerical models, run them on supercomputers, and relate their results\n",
    "to ongoing space missions. The workshops are biannual, one in Norway and one in Kobe, Japan.\n",
    "Picture below from the first workshop in Kobe, in June 2015.\n",
    "\n",
    "The Kobe-Oslo project is funded through the UTFORSK 2016 Partnership Programme administered\n",
    "by the Norwegian Centre for International Cooperation in Education (SIU).\n",
    "\n",
    "![](../images/kobe.jpg)"
   ]
  }
 ],
 "metadata": {
  "jupytext": {
   "cell_metadata_filter": "-all",
   "main_language": "python",
   "notebook_metadata_filter": "-all"
  }
 },
 "nbformat": 4,
 "nbformat_minor": 2
}
