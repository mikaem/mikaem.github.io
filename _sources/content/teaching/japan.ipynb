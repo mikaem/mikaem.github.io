{
 "cells": [
  {
   "cell_type": "markdown",
   "metadata": {},
   "source": [
    "# Japan-Norway Partnership"
   ]
  },
  {
   "cell_type": "markdown",
   "metadata": {},
   "source": [
    "```{margin}\n",
    "![](../images/kobeoslo_logo.jpg)\n",
    "```"
   ]
  },
  {
   "cell_type": "markdown",
   "metadata": {},
   "source": [
    "The Japanese-Norwegian Partnership in Space Simulations between the University of Oslo and\n",
    "Kobe University provides a unique study opportunity for students interested in space science\n",
    "and numerical modeling. The Kobe-Oslo project is centered on numerical simulations of space\n",
    "related problems, such as interaction between sounding rockets and plasma, cometary environment,\n",
    "asteroids and lunar surfaces, or plasma turbulence. Participating students learn how to use\n",
    "and create large scale numerical models, run them on supercomputers, and relate their results\n",
    "to ongoing space missions. The workshops are biannual, one in Norway and one in Kobe, Japan.\n",
    "Picture below from the first workshop in Kobe, in June 2015.\n",
    "\n",
    "The Kobe-Oslo project is funded through the UTFORSK 2016 Partnership Programme administered\n",
    "by the Norwegian Centre for International Cooperation in Education (SIU).\n",
    "\n",
    "![](../images/kobe.jpg)\n"
   ]
  }
 ],
 "metadata": {
  "celltoolbar": "Tags",
  "kernelspec": {
   "display_name": "Python 3",
   "language": "python",
   "name": "python3"
  },
  "language_info": {
   "codemirror_mode": {
    "name": "ipython",
    "version": 3
   },
   "file_extension": ".py",
   "mimetype": "text/x-python",
   "name": "python",
   "nbconvert_exporter": "python",
   "pygments_lexer": "ipython3",
   "version": "3.8.5"
  },
  "toc": {
   "base_numbering": 1,
   "nav_menu": {},
   "number_sections": false,
   "sideBar": true,
   "skip_h1_title": false,
   "title_cell": "Table of Contents",
   "title_sidebar": "Contents",
   "toc_cell": false,
   "toc_position": {},
   "toc_section_display": true,
   "toc_window_display": false
  }
 },
 "nbformat": 4,
 "nbformat_minor": 2
}
