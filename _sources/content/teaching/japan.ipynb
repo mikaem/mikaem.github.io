{
 "cells": [
  {
   "cell_type": "markdown",
   "metadata": {},
   "source": [
    "# Japan-Norway Partnership"
   ]
  },
  {
   "cell_type": "markdown",
   "metadata": {},
   "source": [
    "```{margin}\n",
    "![](../images/kobeoslo_logo.jpg)\n",
    "```"
   ]
  },
  {
   "cell_type": "markdown",
   "metadata": {},
   "source": [
    "The Japanese-Norwegian Partnership in Space Simulations between the University of Oslo and\n",
    "Kobe University provides a unique study opportunity for students interested in space science\n",
    "and numerical modeling. The Kobe-Oslo project is centered on numerical simulations of space\n",
    "related problems, such as interaction between sounding rockets and plasma, cometary environment,\n",
    "asteroids and lunar surfaces, or plasma turbulence. Participating students learn how to use\n",
    "and create large scale numerical models, run them on supercomputers, and relate their results\n",
    "to ongoing space missions. The workshops are biannual, one in Norway and one in Kobe, Japan.\n",
    "Picture below from the first workshop in Kobe, in June 2015.\n",
    "\n",
    "The Kobe-Oslo project is funded through the UTFORSK 2016 Partnership Programme administered\n",
    "by the Norwegian Centre for International Cooperation in Education (SIU).\n",
    "\n",
    "![](../images/kobe.jpg)"
   ]
  }
 ],
 "metadata": {
  "jupytext": {
   "text_representation": {
    "extension": ".md",
    "format_name": "myst",
    "format_version": "0.10",
    "jupytext_version": "1.5.2"
   }
  },
  "kernelspec": {
   "display_name": "Python 3",
   "language": "python",
   "name": "python3"
  },
  "language_info": {
   "codemirror_mode": {
    "name": "ipython",
    "version": 3
   },
   "file_extension": ".py",
   "mimetype": "text/x-python",
   "name": "python",
   "nbconvert_exporter": "python",
   "pygments_lexer": "ipython3",
   "version": "3.8.5"
  },
  "source_map": [
   12,
   16,
   22
  ]
 },
 "nbformat": 4,
 "nbformat_minor": 4
}