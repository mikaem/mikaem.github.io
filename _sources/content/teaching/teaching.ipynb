{
 "cells": [
  {
   "cell_type": "markdown",
   "metadata": {},
   "source": [
    "# Courses\n",
    "\n",
    "At the University of Oslo, Department of Mathematics, I have been teaching the\n",
    "following courses:\n",
    "\n",
    "  * [Continuum Mechanics](http://www.uio.no/studier/emner/matnat/math/MEK2200)\n",
    "\n",
    "  * [Fluid Mechanics](http://www.uio.no/studier/emner/matnat/math/MEK3230/)\n",
    "\n",
    "  * [Viscous Flow and Turbulence](http://www.uio.no/studier/emner/matnat/math/MEK4300/)\n",
    "\n",
    "  * [Computational Fluid Mechanics](http://www.uio.no/studier/emner/matnat/math/MEK4470/)\n",
    "\n",
    "  * [Feltteori og Vektoranalyse](https://www.uio.no/studier/emner/matnat/math/MEK1100/)"
   ]
  }
 ],
 "metadata": {
  "jupytext": {
   "text_representation": {
    "extension": ".md",
    "format_name": "myst",
    "format_version": "0.10",
    "jupytext_version": "1.5.2"
   }
  },
  "kernelspec": {
   "display_name": "Python 3",
   "language": "python",
   "name": "python3"
  },
  "language_info": {
   "codemirror_mode": {
    "name": "ipython",
    "version": 3
   },
   "file_extension": ".py",
   "mimetype": "text/x-python",
   "name": "python",
   "nbconvert_exporter": "python",
   "pygments_lexer": "ipython3",
   "version": "3.8.5"
  },
  "source_map": [
   12
  ]
 },
 "nbformat": 4,
 "nbformat_minor": 4
}