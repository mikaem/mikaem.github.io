{
 "cells": [
  {
   "cell_type": "raw",
   "metadata": {},
   "source": [
    "---\n",
    "jupytext:\n",
    "  text_representation:\n",
    "    extension: .md\n",
    "    format_name: myst\n",
    "    format_version: '0.10'\n",
    "    jupytext_version: 1.5.2\n",
    "kernelspec:\n",
    "  display_name: Python 3\n",
    "  language: python\n",
    "  name: python3\n",
    "---"
   ]
  },
  {
   "cell_type": "markdown",
   "metadata": {},
   "source": [
    "# Courses\n",
    "\n",
    "At the University of Oslo, Department of Mathematics, I have been teaching the\n",
    "following courses:\n",
    "\n",
    "  * [Continuum Mechanics](http://www.uio.no/studier/emner/matnat/math/MEK2200)\n",
    "\n",
    "  * [Fluid Mechanics](http://www.uio.no/studier/emner/matnat/math/MEK3230/)\n",
    "\n",
    "  * [Viscous Flow and Turbulence](http://www.uio.no/studier/emner/matnat/math/MEK4300/)\n",
    "\n",
    "  * [Computational Fluid Mechanics](http://www.uio.no/studier/emner/matnat/math/MEK4470/)\n",
    "\n",
    "  * [Feltteori og Vektoranalyse](https://www.uio.no/studier/emner/matnat/math/MEK1100/)"
   ]
  }
 ],
 "metadata": {
  "jupytext": {
   "cell_metadata_filter": "-all",
   "main_language": "python",
   "notebook_metadata_filter": "-all"
  }
 },
 "nbformat": 4,
 "nbformat_minor": 2
}
