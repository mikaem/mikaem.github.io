{
 "cells": [
  {
   "cell_type": "markdown",
   "metadata": {},
   "source": [
    "# Contact\n",
    "\n",
    "*Email:*<br> \n",
    "mikaem@math.uio.no\n",
    "\n",
    "*Snail mail:*<br>\n",
    "M. Mortensen<br>\n",
    "Postboks 1053<br>\n",
    "Blindern<br>\n",
    "0316 OSLO<br>\n",
    "Norway<br>\n",
    "\n",
    "*Office:* At UiO<br>\n",
    "Nils Henrik Abel building, room 906<br>\n",
    "Moltke Moe's vei 35<br>\n",
    "0371 OSLO<br>\n",
    "\n",
    "*GitHub user:* `mikaem`<br>\n",
    "\n",
    "*Bitbucket user:* `mikael_mortensen`<br>\n",
    "\n",
    "*Google:* `mikael.mortensen@gmail.com`<br>"
   ]
  }
 ],
 "metadata": {
  "jupytext": {
   "text_representation": {
    "extension": ".md",
    "format_name": "myst",
    "format_version": "0.10",
    "jupytext_version": "1.5.2"
   }
  },
  "kernelspec": {
   "display_name": "Python 3",
   "language": "python",
   "name": "python3"
  },
  "language_info": {
   "codemirror_mode": {
    "name": "ipython",
    "version": 3
   },
   "file_extension": ".py",
   "mimetype": "text/x-python",
   "name": "python",
   "nbconvert_exporter": "python",
   "pygments_lexer": "ipython3",
   "version": "3.8.5"
  },
  "source_map": [
   12
  ]
 },
 "nbformat": 4,
 "nbformat_minor": 4
}