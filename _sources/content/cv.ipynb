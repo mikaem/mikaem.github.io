{
 "cells": [
  {
   "cell_type": "raw",
   "metadata": {},
   "source": [
    "---\n",
    "jupytext:\n",
    "  text_representation:\n",
    "    extension: .md\n",
    "    format_name: myst\n",
    "    format_version: '0.10'\n",
    "    jupytext_version: 1.5.2\n",
    "kernelspec:\n",
    "  display_name: Python 3\n",
    "  language: python\n",
    "  name: python3\n",
    "---"
   ]
  },
  {
   "cell_type": "markdown",
   "metadata": {},
   "source": [
    "# CV\n",
    "\n",
    "I will try to get a complete CV up here, but meanwhile please refer to the\n",
    "following pages:\n",
    "\n",
    "[Google Scholar](https://scholar.google.no/citations?user=X-IKCDYAAAAJ&hl=en)\n",
    "\n",
    "[ResearchGate](https://www.researchgate.net/profile/Mikael_Mortensen)"
   ]
  }
 ],
 "metadata": {
  "jupytext": {
   "cell_metadata_filter": "-all",
   "main_language": "python",
   "notebook_metadata_filter": "-all"
  }
 },
 "nbformat": 4,
 "nbformat_minor": 2
}
