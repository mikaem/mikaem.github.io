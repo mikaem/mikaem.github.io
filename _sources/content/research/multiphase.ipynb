{
 "cells": [
  {
   "cell_type": "markdown",
   "metadata": {},
   "source": [
    "# Multiphase"
   ]
  },
  {
   "cell_type": "markdown",
   "metadata": {},
   "source": [
    "```{sidebar} Annulus flow\n",
    "\n",
    "![](../images/annulus_image_large.jpeg)\n",
    "\n",
    "**Annulus flow** in an experimental configuration at IFE. Note the inner concentric pipe.\n",
    "```"
   ]
  },
  {
   "cell_type": "markdown",
   "metadata": {},
   "source": [
    "I have supervised two PhD-students, Tormod Landet and Christopher Friedemann,\n",
    "that were working on two widely different aspects of two-phase flows.\n",
    "\n",
    "Christopher is involved in the [Annulus flow](https://prosjektbanken.forskningsradet.no/#/project/NFR/255481/Sprak=en) project headed by [IFE](https://www.ife.no) and in collaboration with\n",
    "Imperial College London. The project is sponsored by the Norwegian Research\n",
    "Council. We use OpenFOAM to simulate and understand two-phase flows in annulus\n",
    "configurations {cite}`chris2017,friedemann_2019`, i.e., flow between an inner and outer pipe. \n",
    "\n",
    "In Tormod's project we are investigating finite element methods for use with two-phase flows. We\n",
    "are looking into slope limiting of the velocity field in a discontinuous\n",
    "Galerkin and divergence free setting. {cite}`tormod_fenics_2017,landet2020` \n",
    "\n",
    "## References\n",
    "\n",
    "```{bibliography} ../../references.bib\n",
    ":filter: docname in docnames\n",
    "```"
   ]
  },
  {
   "cell_type": "code",
   "execution_count": null,
   "metadata": {},
   "outputs": [],
   "source": []
  }
 ],
 "metadata": {
  "jupytext": {
   "text_representation": {
    "extension": ".md",
    "format_name": "myst",
    "format_version": "0.10",
    "jupytext_version": "1.5.2"
   }
  },
  "kernelspec": {
   "display_name": "Python 3",
   "language": "python",
   "name": "python3"
  },
  "language_info": {
   "codemirror_mode": {
    "name": "ipython",
    "version": 3
   },
   "file_extension": ".py",
   "mimetype": "text/x-python",
   "name": "python",
   "nbconvert_exporter": "python",
   "pygments_lexer": "ipython3",
   "version": "3.8.5"
  },
  "source_map": [
   12,
   16,
   25,
   45
  ]
 },
 "nbformat": 4,
 "nbformat_minor": 4
}