{
 "cells": [
  {
   "cell_type": "markdown",
   "metadata": {},
   "source": [
    "# Short Bio"
   ]
  },
  {
   "cell_type": "markdown",
   "metadata": {
    "tags": [
     "popout"
    ]
   },
   "source": [
    "<img src=\"https://raw.githack.com/spectralDNS/spectralutilities/master/movies/isotropic_cropped.gif\" width=\"300\">\n",
    "\n",
    "**Isotropic turbulence** computed using my spectralDNS [code](https://github.com/spectralDNS/spectralDNS/blob/master/demo/Isotropic.py)"
   ]
  },
  {
   "cell_type": "markdown",
   "metadata": {},
   "source": [
    "Professor Mikael Mortensen received his PhD in mathematical modeling\n",
    "of turbulent reactive flows from [Chalmers University of Technology](http://www.chalmers.se/en/Pages/default.aspx), Sweden in 2005. He then worked for one year\n",
    "as a Post-Doctoral research fellow at the University of Sydney, in the world\n",
    "leading research group of Prof. Robert W. Bilger at the [School of Aerospace, Mechanical and Mechatronic\n",
    "Engineering](http://web.aeromech.usyd.edu.au/index.php). While in Sydney he\n",
    "worked mainly with developing mathematical models for spray combustion, and\n",
    "turbulent mixing of flows with multiple injections. Returning to Norway,\n",
    "he worked with turbulence modelling and Computational Fluid Dynamics (CFD) for five years at the [Norwegian Defence Research Establishment](https://www.ffi.no), before\n",
    "arriving as an Associate Professor in 2012 at the [University of Oslo](http://www.uio.no), Norway. Since May 2019 he has been working as full Professor.\n",
    "\n",
    "Prof. Mortensen is interested in CFD and the many aspects of turbulent fluid\n",
    "flows, ranging from physics, modeling, numerical methods, software implementation and applications.\n",
    "And since such topics as turbulence, CFD and scientific computing are relevant\n",
    "for a wide range of\n",
    "different research fields, his later research topics venture into fields\n",
    "such as plasma physics, biomedical flows, multiphase and numerical analysis.\n",
    "In recent years he has been working extensively with finite element (FEniCS) and spectral codes for Direct\n",
    "Numerical Simulation (DNS) of turbulence, with codes preferably written in the high-level Python language.\n",
    "\n",
    "If you are interested in learning more about my different research projects, please\n",
    "follow the links in the Research tab at the top of this page for extended information."
   ]
  }
 ],
 "metadata": {
  "celltoolbar": "Tags",
  "kernelspec": {
   "display_name": "Python 3",
   "language": "python",
   "name": "python3"
  },
  "language_info": {
   "codemirror_mode": {
    "name": "ipython",
    "version": 3
   },
   "file_extension": ".py",
   "mimetype": "text/x-python",
   "name": "python",
   "nbconvert_exporter": "python",
   "pygments_lexer": "ipython3",
   "version": "3.7.3"
  }
 },
 "nbformat": 4,
 "nbformat_minor": 2
}
