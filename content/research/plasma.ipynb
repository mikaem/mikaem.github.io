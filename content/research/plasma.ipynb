{
 "cells": [
  {
   "cell_type": "markdown",
   "metadata": {},
   "source": [
    "# 4DSpace\n",
    "\n",
    "In the strategic research initiative [4DSpace](http://www.mn.uio.no/fysikk/english/research/projects/4dspace/) we study\n",
    "instabilities and turbulence in the polar ionosphere with an integrated, multi-scale 4D (3D in space and time) experimental, theoretical, and modelling approach.\n",
    "\n",
    "Two of my PhD students *Diako Darian* and [Sigvald Marholm](http://www.mn.uio.no/fysikk/english/?vrtx=person-view&uid=sigvaldm) are both\n",
    "working under the 4DSpace umbrella, that altogether count approximately 40\n",
    "people. We are focusing on developing unstructured Particle In Cell (PIC) codes with finite\n",
    "element and Lagrangian particle methods, within the FEniCS framework. See {% cite marholm2018 %} and the Particles in UNstructured Cells code [PUNC](https://github.com/puncproject).\n",
    "\n",
    "In the paper by {% cite diako_2017 %} we use PIC simulations of a sounding rocket in\n",
    "ionospheric plasma to investigate effects of magnetic field on the wake formation and rocket potential. In the paper by {% cite Miloch2018 %} we study dynamic ion shadows behind finite-sized objects in collisionless magnetized plasma flows."
   ]
  },
  {
   "cell_type": "markdown",
   "metadata": {
    "tags": [
     "popout"
    ]
   },
   "source": [
    "<img src=\"../images/KHmovie2.gif\" width=\"300\" >\n",
    "\n",
    "**Kelvin Helmholtz** instabilities computed with spectralDNS"
   ]
  },
  {
   "cell_type": "markdown",
   "metadata": {},
   "source": [
    "{% cite darian2015pseudo %} have implemented a spectral MagnetoHydroDynamics\n",
    "solver with the Boussinesq approximation for variable densities within the\n",
    "[spectralDNS](https://github.com/spectralDNS) framework, and use it to study\n",
    "Kelvin-Helmholtz instabilities in stratified and unstratified shear layers.\n",
    "\n",
    "{% cite wojciech2017 %} study the wake potential of a\n",
    "dust particle in magnetised plasmas. In {% cite Darian_2019 %} we use simulations to study\n",
    "spherical and cylindrical Langmuir probes in non-Maxwellian plasmas, whereas\n",
    "{% cite marholm2019 %} investigates the response of miniaturized fixed-bias multi-needle\n",
    "Langmuir probes on a CubeSat satellite.\n",
    "\n",
    "# References\n",
    "\n",
    "{% bibliography --cited %}"
   ]
  }
 ],
 "metadata": {
  "celltoolbar": "Tags",
  "kernelspec": {
   "display_name": "Python 3",
   "language": "python",
   "name": "python3"
  },
  "language_info": {
   "codemirror_mode": {
    "name": "ipython",
    "version": 3
   },
   "file_extension": ".py",
   "mimetype": "text/x-python",
   "name": "python",
   "nbconvert_exporter": "python",
   "pygments_lexer": "ipython3",
   "version": "3.7.4"
  }
 },
 "nbformat": 4,
 "nbformat_minor": 2
}
