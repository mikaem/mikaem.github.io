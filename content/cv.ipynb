{
 "cells": [
  {
   "cell_type": "markdown",
   "metadata": {},
   "source": [
    "# CV\n",
    "\n",
    "I will try to get a complete CV up here, but meanwhile please refer to the\n",
    "following pages:\n",
    "\n",
    "[Google Scholar](https://scholar.google.no/citations?user=X-IKCDYAAAAJ&hl=en)\n",
    "\n",
    "[ResearchGate](https://www.researchgate.net/profile/Mikael_Mortensen)"
   ]
  }
 ],
 "metadata": {
  "kernelspec": {
   "display_name": "Python 3",
   "language": "python",
   "name": "python3"
  },
  "language_info": {
   "codemirror_mode": {
    "name": "ipython",
    "version": 3
   },
   "file_extension": ".py",
   "mimetype": "text/x-python",
   "name": "python",
   "nbconvert_exporter": "python",
   "pygments_lexer": "ipython3",
   "version": "3.8.0"
  }
 },
 "nbformat": 4,
 "nbformat_minor": 2
}
