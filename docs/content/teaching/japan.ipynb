{
 "cells": [
  {
   "cell_type": "markdown",
   "metadata": {},
   "source": [
    "# Japan-Norway Partnership"
   ]
  },
  {
   "cell_type": "markdown",
   "metadata": {
    "tags": [
     "popout"
    ]
   },
   "source": [
    "<img src=\"../images/kobeoslo_logo.jpg\" width=\"250\" >"
   ]
  },
  {
   "cell_type": "markdown",
   "metadata": {},
   "source": [
    "The Japanese-Norwegian Partnership in Space Simulations between the University of Oslo and\n",
    "Kobe University provides a unique study opportunity for students interested in space science\n",
    "and numerical modeling. The Kobe-Oslo project is centered on numerical simulations of space\n",
    "related problems, such as interaction between sounding rockets and plasma, cometary environment,\n",
    "asteroids and lunar surfaces, or plasma turbulence. Participating students learn how to use\n",
    "and create large scale numerical models, run them on supercomputers, and relate their results\n",
    "to ongoing space missions. The workshops are biannual, one in Norway and one in Kobe, Japan.\n",
    "Picture below from the first workshop in Kobe, in June 2015.\n",
    "\n",
    "The Kobe-Oslo project is funded through the UTFORSK 2016 Partnership Programme administered\n",
    "by the Norwegian Centre for International Cooperation in Education (SIU).\n",
    "\n",
    "<img src=\"../images/kobe.jpg\" width=\"800\">\n"
   ]
  }
 ],
 "metadata": {
  "celltoolbar": "Tags",
  "kernelspec": {
   "display_name": "Python 3",
   "language": "python",
   "name": "python3"
  },
  "language_info": {
   "codemirror_mode": {
    "name": "ipython",
    "version": 3
   },
   "file_extension": ".py",
   "mimetype": "text/x-python",
   "name": "python",
   "nbconvert_exporter": "python",
   "pygments_lexer": "ipython3",
   "version": "3.7.3"
  }
 },
 "nbformat": 4,
 "nbformat_minor": 2
}
